{
 "cells": [
  {
   "cell_type": "code",
   "execution_count": 29,
   "id": "711ac020-4912-4aaa-b002-c3625b98d9bb",
   "metadata": {},
   "outputs": [
    {
     "name": "stdin",
     "output_type": "stream",
     "text": [
      "Enter you name:  Sarah\n",
      "Enter your weight in pounds:  90\n",
      "Enter your height in inches:  62\n"
     ]
    },
    {
     "name": "stdout",
     "output_type": "stream",
     "text": [
      "Your Body Mass Index (BMI) is:  16.459417273673257\n",
      "Sarah, you are underweight.\n"
     ]
    }
   ],
   "source": [
    "name = input(\"Enter you name: \")\n",
    "\n",
    "weight = int(input(\"Enter your weight in pounds: \"))\n",
    "\n",
    "height = int(input(\"Enter your height in inches: \"))\n",
    "\n",
    "BMI = (weight * 703) / (height * height)\n",
    "\n",
    "print(\"Your Body Mass Index (BMI) is: \", BMI)\n",
    "\n",
    "if BMI>0:\n",
    "    if(BMI < 18.5):\n",
    "        print(name +\", you are underweight.\")\n",
    "    elif (BMI <= 24.9):\n",
    "        print(name +\", you are normal weight.\")\n",
    "    elif (BMI <= 29.9):\n",
    "        print(name +\", you are overweight.\")\n",
    "    elif (BMI <= 34.9):\n",
    "        print(name +\", you are obese.\")\n",
    "    elif (BMI <= 39.9):\n",
    "        print(name +\", you are severely obese.\")\n",
    "    else:\n",
    "        print(name +\", you are morbidly obese.\")\n",
    "else:\n",
    "    print(\"Please enter valid input\")"
   ]
  },
  {
   "cell_type": "code",
   "execution_count": null,
   "id": "10e6838b-8d70-4f40-8728-5e1dd9037036",
   "metadata": {},
   "outputs": [],
   "source": []
  },
  {
   "cell_type": "code",
   "execution_count": null,
   "id": "be696e3e-3881-418e-81c8-c4d819107cb2",
   "metadata": {},
   "outputs": [],
   "source": [
    "#BMI = ( weight * 703)/(height * height)"
   ]
  },
  {
   "cell_type": "code",
   "execution_count": null,
   "id": "74b2c245-1c45-4c6a-900f-8d0949ff58df",
   "metadata": {},
   "outputs": [],
   "source": [
    "Under 18.5 --> Underweight\n",
    "18.5 - 24.9 --> Normal Weight\n",
    "25 - 29.9 --> Overweight\n",
    "30 - 34.9 --> Obese\n",
    "35 - 35.9 --> Severely Obese\n",
    "40 and over --> Morbidly Obese"
   ]
  },
  {
   "cell_type": "code",
   "execution_count": null,
   "id": "87749c13-ba4a-4bbc-b544-6e33c38e30b9",
   "metadata": {},
   "outputs": [],
   "source": [
    "if BMI > 0:\n",
    "    if (BMI < 18.5):\n",
    "        print(name +', you are underweight.')\n",
    "    elif (BMI <= 24.9):\n",
    "        print(name +', you are normal weight.')\n",
    "    elif (BMI <= 29.9):\n",
    "        print(name +', you are overweight.')\n",
    "    elif (BMI <= 34.9):\n",
    "        print(name +', you are obese.')\n",
    "    elif (BMI <= 35.9):\n",
    "        print(name +', you are severely obese.')\n",
    "    else:\n",
    "        print(name +', you are morbidly obese.')\n",
    "else:\n",
    "    print('Please enter valid input.')"
   ]
  }
 ],
 "metadata": {
  "kernelspec": {
   "display_name": "anaconda-panel-2023.05-py310",
   "language": "python",
   "name": "conda-env-anaconda-panel-2023.05-py310-py"
  },
  "language_info": {
   "codemirror_mode": {
    "name": "ipython",
    "version": 3
   },
   "file_extension": ".py",
   "mimetype": "text/x-python",
   "name": "python",
   "nbconvert_exporter": "python",
   "pygments_lexer": "ipython3",
   "version": "3.11.5"
  }
 },
 "nbformat": 4,
 "nbformat_minor": 5
}
