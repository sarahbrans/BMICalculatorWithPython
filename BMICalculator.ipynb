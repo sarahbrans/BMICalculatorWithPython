name = input('Enter your name: ')
weight = int(input('Enter your weight in pounds: '))
height = int(input('Enter your height in inches: '))

BMI = ( weight * 703)/(height * height)

print('Your Body Mass Index (BMI) is:', BMI)

if BMI > 0:
    if (BMI < 18.5):
        print(name +', you are underweight.')
    elif (BMI <= 24.9):
        print(name +', you are normal weight.')
    elif (BMI <= 29.9):
        print(name +', you are overweight.')
    elif (BMI <= 34.9):
        print(name +', you are obese.')
    elif (BMI <= 35.9):
        print(name +', you are severely obese.')
    else:
        print(name +', you are morbidly obese.')
else:
    print('Please enter valid input.')

Enter your name:  Sarah
Enter your weight in pounds:  90
Enter your height in inches:  62
Your Body Mass Index (BMI) is: 16.459417273673257
Sarah, you are underweight.

#BMI = (weight in pounds x 703) / (height in inches x height in inches)

Under 18.5 --> Underweight
18.5 - 24.9 --> Normal Weight
25 - 29.9 --> Overweight
30 - 34.9 --> Obese
35 - 35.9 --> Severely Obese
40 and over --> Morbidly Obese

if BMI > 0:
    if (BMI < 18.5):
        print(name +', you are underweight.')
    elif (BMI <= 24.9):
        print(name +', you are normal weight.')
    elif (BMI <= 29.9):
        print(name +', you are overweight.')
    elif (BMI <= 34.9):
        print(name +', you are obese.')
    elif (BMI <= 35.9):
        print(name +', you are severely obese.')
    else:
        print(name +', you are morbidly obese.')
else:
    print('Please enter valid input.')
