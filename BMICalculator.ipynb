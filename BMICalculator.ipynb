{
 "cells": [
  {
   "cell_type": "code",
   "execution_count": null,
   "id": "d26fc253-420f-4b82-8b9c-e5e8290711f4",
   "metadata": {},
   "outputs": [
    {
     "name": "stdin",
     "output_type": "stream",
     "text": [
      "Enter your name:  Sarah\n",
      "Enter your weight in pounds:  90\n",
      "Enter your height in inches:  62\n"
     ]
    },
    {
     "name": "stdout",
     "output_type": "stream",
     "text": [
      "Your Body Mass Index (BMI) is: 16.459417273673257\n",
      "Sarah, you are underweight.\n"
     ]
    }
   ],
   "source": [
    "name = input('Enter your name: ')\n",
    "weight = int(input('Enter your weight in pounds: '))\n",
    "height = int(input('Enter your height in inches: '))\n",
    "BMI = ( weight * 703)/(height * height)\n",
    "print('Your Body Mass Index (BMI) is:', BMI)\n",
    "\n",
    "if BMI > 0:\n",
    "    if (BMI < 18.5):\n",
    "        print(name +', you are underweight.')\n",
    "    elif (BMI <= 24.9):\n",
    "        print(name +', you are normal weight.')\n",
    "    elif (BMI <= 29.9):\n",
    "        print(name +', you are overweight.')\n",
    "    elif (BMI <= 34.9):\n",
    "        print(name +', you are obese.')\n",
    "    elif (BMI <= 35.9):\n",
    "        print(name +', you are severely obese.')\n",
    "    else:\n",
    "        print(name +', you are morbidly obese.')\n",
    "else:\n",
    "    print('Please enter valid input.')\n"
   ]
  },
  {
   "cell_type": "code",
   "execution_count": null,
   "id": "81be4e32-9fd4-494e-9f9d-b27d251df033",
   "metadata": {},
   "outputs": [],
   "source": [
    "#BMI = ( weight * 703)/(height * height)"
   ]
  },
  {
   "cell_type": "code",
   "execution_count": null,
   "id": "f13c9322-5e61-4ce4-92e1-c93d852f3e74",
   "metadata": {},
   "outputs": [],
   "source": [
    "Under 18.5 --> Underweight\n",
    "18.5 - 24.9 --> Normal Weight\n",
    "25 - 29.9 --> Overweight\n",
    "30 - 34.9 --> Obese\n",
    "35 - 35.9 --> Severely Obese\n",
    "40 and over --> Morbidly Obese\n"
   ]
  },
  {
   "cell_type": "code",
   "execution_count": null,
   "id": "d233cf31-2c2b-4b14-9973-5304b5743a2b",
   "metadata": {},
   "outputs": [],
   "source": [
    "if BMI > 0:\n",
    "    if (BMI < 18.5):\n",
    "        print(name +', you are underweight.')\n",
    "    elif (BMI <= 24.9):\n",
    "        print(name +', you are normal weight.')\n",
    "    elif (BMI <= 29.9):\n",
    "        print(name +', you are overweight.')\n",
    "    elif (BMI <= 34.9):\n",
    "        print(name +', you are obese.')\n",
    "    elif (BMI <= 35.9):\n",
    "        print(name +', you are severely obese.')\n",
    "    else:\n",
    "        print(name +', you are morbidly obese.')\n",
    "else:\n",
    "    print('Please enter valid input.')"
   ]
  },
  {
   "cell_type": "code",
   "execution_count": null,
   "id": "66e16722-4418-4a42-9d49-949ed6595c5a",
   "metadata": {},
   "outputs": [],
   "source": []
  }
 ],
 "metadata": {
  "kernelspec": {
   "display_name": "anaconda-panel-2023.05-py310",
   "language": "python",
   "name": "conda-env-anaconda-panel-2023.05-py310-py"
  },
  "language_info": {
   "codemirror_mode": {
    "name": "ipython",
    "version": 3
   },
   "file_extension": ".py",
   "mimetype": "text/x-python",
   "name": "python",
   "nbconvert_exporter": "python",
   "pygments_lexer": "ipython3",
   "version": "3.11.4"
  }
 },
 "nbformat": 4,
 "nbformat_minor": 5
}
