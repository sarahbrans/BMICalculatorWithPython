{
 "cells": [
  {
   "cell_type": "code",
   "execution_count": 3,
   "id": "1443e0ca-36ad-4a88-9976-60dc760a2f1e",
   "metadata": {},
   "outputs": [
    {
     "name": "stdin",
     "output_type": "stream",
     "text": [
      "Enter your name:  Sarah\n",
      "Enter your weight in pounds:  90\n",
      "Enter your height in inches:  62\n"
     ]
    },
    {
     "name": "stdout",
     "output_type": "stream",
     "text": [
      "Your Body Mass Index (BMI) is: 16.459417273673257\n",
      "Sarah, you are underweight.\n"
     ]
    }
   ],
   "source": [
    "name = input('Enter your name: ')\n",
    "weight = int(input('Enter your weight in pounds: '))\n",
    "height = int(input('Enter your height in inches: '))\n",
    "\n",
    "BMI = ( weight * 703)/(height * height)\n",
    "\n",
    "print('Your Body Mass Index (BMI) is:', BMI)\n",
    "\n",
    "if BMI > 0:\n",
    "    if (BMI < 18.5):\n",
    "        print(name +', you are underweight.')\n",
    "    elif (BMI <= 24.9):\n",
    "        print(name +', you are normal weight.')\n",
    "    elif (BMI <= 29.9):\n",
    "        print(name +', you are overweight.')\n",
    "    elif (BMI <= 34.9):\n",
    "        print(name +', you are obese.')\n",
    "    elif (BMI <= 35.9):\n",
    "        print(name +', you are severely obese.')\n",
    "    else:\n",
    "        print(name +', you are morbidly obese.')\n",
    "else:\n",
    "    print('Please enter valid input.')"
   ]
  },
  {
   "cell_type": "code",
   "execution_count": null,
   "id": "eca6a5cd-4987-4745-871d-818fc39ecc9f",
   "metadata": {},
   "outputs": [],
   "source": []
  }
 ],
 "metadata": {
  "kernelspec": {
   "display_name": "anaconda-panel-2023.05-py310",
   "language": "python",
   "name": "conda-env-anaconda-panel-2023.05-py310-py"
  },
  "language_info": {
   "codemirror_mode": {
    "name": "ipython",
    "version": 3
   },
   "file_extension": ".py",
   "mimetype": "text/x-python",
   "name": "python",
   "nbconvert_exporter": "python",
   "pygments_lexer": "ipython3",
   "version": "3.11.4"
  }
 },
 "nbformat": 4,
 "nbformat_minor": 5
}
